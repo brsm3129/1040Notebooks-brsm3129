{
 "cells": [
  {
   "cell_type": "markdown",
   "metadata": {},
   "source": [
    "# ASTR 1040 Midterm 2 practice problems\n",
    "\n",
    "For reference, all of the `astropy` constants as well as examples can be found [here](https://docs.astropy.org/en/stable/constants/index.html). Likewise all of the units and their names / how to access them can be found [here](https://docs.astropy.org/en/stable/units/index.html). \n",
    "\n",
    "To create a variable with units you need to multiply by the corresponding unit class:\n",
    "\n",
    "```python\n",
    "d = 1 * units.au\n",
    "```\n",
    "\n",
    "You can then convert unitful quantities to other units by calling the `to` method and passing the desired end unit class: \n",
    "\n",
    "```python\n",
    "d_m = d.to(units.m)\n",
    "```\n",
    "\n",
    "If you have a ratio of quanities where all the units should cancel out, you can obtain the dimensionles number using the `dimesionless_unscaled` method. For example writing:\n",
    "```python\n",
    "d_m/d\n",
    "``` \n",
    "yields $1.4959787\\times 10^{11} \\rm{\\frac{m}{AU}}$, but doing:\n",
    "```python\n",
    "(d_m/d).to(units.dimensionless_unscaled)\n",
    "```\n",
    "returns `1.0` as expected."
   ]
  },
  {
   "cell_type": "code",
   "execution_count": 1,
   "metadata": {},
   "outputs": [],
   "source": [
    "#SETUP CELL (modify at your own peril)\n",
    "from astropy import units #access units by doing units.<unit> (i.e. units.au)\n",
    "from astropy import constants\n",
    "import numpy as np #common math functions (i.e. np.sin(x)) and better arrays (i.e. np.array([1,2,3])\n",
    "import matplotlib.pyplot as plt #plotting functions (i.e. plt.plot(x,y))\n",
    "G = constants.G # gravitational constant\n",
    "M_sun = constants.M_sun # mass of the sun\n",
    "R_sun = constants.R_sun # radius of the sun\n",
    "L_sun = constants.L_sun # luminosity of the sun\n",
    "M_earth = constants.M_earth # mass of the earth\n",
    "R_earth = constants.R_earth # radius of the earth\n",
    "M_jup = constants.M_jup # mass of jupiter\n",
    "R_jup = constants.R_jup # radius of jupiter\n",
    "sigma_sb = constants.sigma_sb # Stefan-Boltzmann constant\n",
    "b_wien = constants.b_wien # Wien's displacement constant\n",
    "c = constants.c # speed of light\n",
    "h = constants.h # Planck constant\n",
    "k_B = constants.k_B # Boltzmann constant\n",
    "m_e = constants.m_e # mass of electron\n",
    "m_p = constants.m_p # mass of proton \n",
    "m_n = constants.m_n # mass of neutron (basically just the mass of a proton but whatever)\n",
    "g0 = constants.g0 # standard gravity, 9.8 m/s^2\n",
    "e = constants.e # absolute value of electron/proton charge"
   ]
  },
  {
   "cell_type": "markdown",
   "metadata": {},
   "source": [
    "**Note: the solutions to all these problems can be found in the notebook `midterm2reviewSolutions` &mdash; I've left this one blank in case you want to try the problems without seeing the solutions first.**\n",
    "\n",
    "## Practice problem 1\n",
    "\n",
    "Suppose you observe two galaxies: \n",
    "\n",
    "Galaxy A you measure is a 100 Mpc away, and you measure a recessional velocity of 100 km/s.\n",
    "\n",
    "Galaxy B is 30 Mpc away, and you measure a recessional velocity of 30 km/s.\n",
    "\n",
    "### a) Make a plot showing the velocity on the y-axis and position on the x-axis for these two galaxies\n",
    "\n",
    "### b) Using your plot from part a, what would you infer Hubble's constant to be?\n",
    "\n",
    "### c) Using your value from part b and assuming constant expansion, what would you infer the age of the universe to be? \n",
    "\n",
    "### d) Suppose that to determine the velocity you need to look for a spectral line that usually occurs at 1000 Angstroms for nearby galaxies. Suppose your fanciest telescope can see wavelengths as long as 1 micrometer. How far back in time would you be able to see? "
   ]
  },
  {
   "cell_type": "markdown",
   "metadata": {},
   "source": [
    "## Practice problem 2\n",
    "\n",
    "### a) Calculate and compare the densities of white dwarves, neutron stars, and stellar mass black holes\n",
    "For the white dwarf take the mass to be 1 solar mass and the radius to be that of the Earth, for the neutron star take a mass of 2 solar masses and a radius of 10 km, and for a stellar mass black hole use a mass of 3 solar masses. Can you distinguish these objects based on their densities? Practically (observationally) how might you do this? \n",
    "\n",
    "### b) Qualitatively, how would you expect the size of each of these objects to change as you increase their mass? \n",
    "\n",
    "### c) Make a plot of black hole density as a function of mass\n",
    "\n",
    "It will be easiest to visualize this if you make your plot log-log scale. \n",
    "\n",
    "Include a few horizontal lines to guide the eye: the average density of the Earth, the density of water, and the density of the Sun. Also label the location of a few known black holes (say a stellar mass black hole like Cyg X-1, the supermassive black hole at the center of our galaxy, the one at the heart of Andromeda, and the first one to have its photo taken at the heart of M87). Do you notice anything suprising? "
   ]
  },
  {
   "cell_type": "markdown",
   "metadata": {},
   "source": [
    "## Practice problem 3\n",
    "\n",
    "Suppose you are playing a game of baseball on the moon (no atmosphere), and you heard from a friend taking ASTR 1040 that if you throw the ball hard enough you could get it to orbit and come back to you! \n",
    "\n",
    "### a) How fast would you need to throw the baseball to get it to orbit?\n",
    "\n",
    "Assume that you throw the ball from a height roughly equal to your own height (use 2m if you just want a number). You will need to look up the mass and radius of the moon, and let's assume there are no mountains in your way (the moon is a perfect sphere). \n",
    "\n",
    "### b) How long would it take to return to you? \n",
    "\n",
    "Answer in hours.\n",
    "\n",
    "### c) Is this physically plausible? \n",
    "\n",
    "Consider that the fastest pitchers can throw the ball at a little over 100 mph.\n",
    "\n",
    "\n",
    "### d) Make it plausible\n",
    "\n",
    "How high up would you have to play your game of baseball to need to worry about accidentally creating baseball satellites after your pitches? "
   ]
  },
  {
   "cell_type": "code",
   "execution_count": null,
   "metadata": {},
   "outputs": [],
   "source": []
  }
 ],
 "metadata": {
  "kernelspec": {
   "display_name": "Python 3 (ipykernel)",
   "language": "python",
   "name": "python3"
  },
  "language_info": {
   "codemirror_mode": {
    "name": "ipython",
    "version": 3
   },
   "file_extension": ".py",
   "mimetype": "text/x-python",
   "name": "python",
   "nbconvert_exporter": "python",
   "pygments_lexer": "ipython3",
   "version": "3.11.5"
  }
 },
 "nbformat": 4,
 "nbformat_minor": 2
}
