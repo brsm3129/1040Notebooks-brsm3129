{
 "cells": [
  {
   "cell_type": "markdown",
   "metadata": {},
   "source": [
    "# ASTR 1040 Problem Set 8\n",
    "\n",
    "The first cell (below) contains lots of helpful constants you may need to use throughout the semester. Make sure to run it each time before you start working! \n",
    "\n",
    "For reference, all of the `astropy` constants as well as examples can be found [here](https://docs.astropy.org/en/stable/constants/index.html). Likewise all of the units and their names / how to access them can be found [here](https://docs.astropy.org/en/stable/units/index.html). \n",
    "\n",
    "To create a variable with units you need to multiply by the corresponding unit class:\n",
    "\n",
    "```python\n",
    "d = 1 * units.au\n",
    "```\n",
    "\n",
    "You can then convert unitful quantities to other units by calling the `to` method and passing the desired end unit class: \n",
    "\n",
    "```python\n",
    "d_m = d.to(units.m)\n",
    "```\n",
    "\n",
    "If you have a ratio of quanities where all the units should cancel out, you can obtain the dimensionles number using the `dimesionless_unscaled` method. For example writing:\n",
    "```python\n",
    "d_m/d\n",
    "``` \n",
    "yields $1.4959787\\times 10^{11} \\rm{\\frac{m}{AU}}$, but doing:\n",
    "```python\n",
    "(d_m/d).to(units.dimensionless_unscaled)\n",
    "```\n",
    "returns `1.0` as expected."
   ]
  },
  {
   "cell_type": "code",
   "execution_count": 2,
   "metadata": {},
   "outputs": [],
   "source": [
    "#SETUP CELL (modify at your own peril)\n",
    "from astropy import units #access units by doing units.<unit> (i.e. units.au)\n",
    "from astropy import constants\n",
    "import numpy as np #common math functions (i.e. np.sin(x)) and better arrays (i.e. np.array([1,2,3])\n",
    "import matplotlib.pyplot as plt #plotting functions (i.e. plt.plot(x,y))\n",
    "G = constants.G # gravitational constant\n",
    "M_sun = constants.M_sun # mass of the sun\n",
    "R_sun = constants.R_sun # radius of the sun\n",
    "L_sun = constants.L_sun # luminosity of the sun\n",
    "M_earth = constants.M_earth # mass of the earth\n",
    "R_earth = constants.R_earth # radius of the earth\n",
    "M_jup = constants.M_jup # mass of jupiter\n",
    "R_jup = constants.R_jup # radius of jupiter\n",
    "sigma_sb = constants.sigma_sb # Stefan-Boltzmann constant\n",
    "b_wien = constants.b_wien # Wien's displacement constant\n",
    "c = constants.c # speed of light\n",
    "h = constants.h # Planck constant\n",
    "k_B = constants.k_B # Boltzmann constant\n",
    "m_e = constants.m_e # mass of electron\n",
    "m_p = constants.m_p # mass of proton \n",
    "m_n = constants.m_n # mass of neutron (basically just the mass of a proton but whatever)\n",
    "g0 = constants.g0 # standard gravity, 9.8 m/s^2\n",
    "e = constants.e # absolute value of electron/proton charge"
   ]
  },
  {
   "cell_type": "markdown",
   "metadata": {},
   "source": [
    "## Problem 1: Recent results from JWST [20 points]\n",
    "\n",
    "Read this [astrobites article](https://astrobites.org/2022/09/03/jwst-takes-a-peek-at-the-first-ever-galaxies/), and in a few sentences, summarize what the main result is of the paper described and why that result is surprising astronomers: "
   ]
  },
  {
   "cell_type": "markdown",
   "metadata": {},
   "source": [
    "## Problem 2: High-z redshifts and looking back in time [50 points]\n",
    "\n",
    "Suppose a galaxy observed with a redshift $z = 8$. \n",
    "\n",
    "### a) Back of the envelope age of the universe. [10 points]\n",
    "Current values for the local Hubble constant $H_0$ are roughly 70 km/s/Mpc. Use this to provide a rough estimate for the age of the universe, in billions of years. \n",
    "\n",
    "*Hint: Think about Hubble's law and/or the units of $H_0$*\n",
    "\n",
    "### b) What is the recession velocity of a galaxy at $z=8$? [10 points]\n",
    "\n",
    "Provide your answer in terms of the speed of light, $c$. \n",
    "\n",
    "### c) According to Hubble's law, how far away was the galaxy when it emitted its light? [10 points]\n",
    "\n",
    "Provide your answer in billions of lightyears, using $H_0 \\approx 70 \\frac{\\rm{km/s}}{\\rm{Mpc}}$.\n",
    "\n",
    "### d) How long ago was the light from that galaxy emitted? [10 points]\n",
    "\n",
    "Provide your answer in billions of years.\n",
    "\n",
    "### e) What was the age of the universe when that light was emitted? [10 points]\n",
    "\n",
    "Provide your answer in millions of years. \n",
    "\n",
    "*Note: We are pushing the limits of relativity and linear calculations with this problem. Our answers are good for a back of the envelope calculation, but in general for $z > 1$ it is a best practice to use general relativity to properly account for the expansion of space over time to correctly answer the question (but that's beyond the scope of this class).*"
   ]
  },
  {
   "cell_type": "markdown",
   "metadata": {},
   "source": [
    "## Problem 3: Type 1a Supernovae [30 points]\n",
    "\n",
    "Type 1a supernovae are one of the most valuable \"standard candles\" in galactic astronomy, because they are bright enough to be detected from billions of light years away! Thus they are the most accurate method to determine the distance to deep-space galaxies.\n",
    "\n",
    "Below is a plot of a type 1a supernova spectrum taken from real data! \n",
    "\n",
    "![type1a supernova](https://upload.wikimedia.org/wikipedia/commons/thumb/2/25/SN1998aq_max_spectra.svg/1280px-SN1998aq_max_spectra.svg.png)\n",
    "\n",
    "[Link to plot in case it doesn't display in your Jupyter notebook](https://upload.wikimedia.org/wikipedia/commons/thumb/2/25/SN1998aq_max_spectra.svg/1280px-SN1998aq_max_spectra.svg.png)\n",
    "\n",
    "Fun fact &mdash; this supernova had an absolute magnitude of almost -20, which is about the same as the estimated brightness of the entire Milky Way!\n",
    "\n",
    "### a) What type of light is being emitted? [10 points]\n",
    "\n",
    "*Hint: make a rough estimate. Where is the peak of the emission? Note the units of wavelength axis of the plot are in $\\mathring{A}$, where one Angstrom ($\\mathring{A}$) = 10 nm*.\n",
    "\n",
    "### b) If we observed this supernova in a galaxy at z = 2, what type of light would we receive? [10 points]\n",
    "\n",
    "What would you expect the peak wavelength of emission to be and what part of the spectrum is this? \n",
    "\n",
    "### c) Can JWST see faint supernovae? [10 points]\n",
    "\n",
    "Suppose we want to be able to see type 1a supernovae in at least $z = 10$ galaxies. What wavelength regime should we concentrate on? JWST has an observing range of $0.6 \\mu\\rm{m}$ to $28.5 \\mu \\rm{m}$ &mdash; is this appropriate for observing high-z type 1a supernovae? "
   ]
  }
 ],
 "metadata": {
  "kernelspec": {
   "display_name": "Python 3 (ipykernel)",
   "language": "python",
   "name": "python3"
  },
  "language_info": {
   "codemirror_mode": {
    "name": "ipython",
    "version": 3
   },
   "file_extension": ".py",
   "mimetype": "text/x-python",
   "name": "python",
   "nbconvert_exporter": "python",
   "pygments_lexer": "ipython3",
   "version": "3.11.5"
  }
 },
 "nbformat": 4,
 "nbformat_minor": 2
}
