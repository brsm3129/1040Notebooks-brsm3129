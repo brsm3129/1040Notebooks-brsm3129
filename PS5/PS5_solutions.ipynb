{
 "cells": [
  {
   "cell_type": "markdown",
   "metadata": {},
   "source": [
    "# ASTR 1040 Problem Set 5\n",
    "\n",
    "The first cell (below) contains lots of helpful constants you may need to use throughout the semester. Make sure to run it each time before you start working! \n",
    "\n",
    "For reference, all of the `astropy` constants as well as examples can be found [here](https://docs.astropy.org/en/stable/constants/index.html). Likewise all of the units and their names / how to access them can be found [here](https://docs.astropy.org/en/stable/units/index.html). \n",
    "\n",
    "To create a variable with units you need to multiply by the corresponding unit class:\n",
    "\n",
    "```python\n",
    "d = 1 * units.au\n",
    "```\n",
    "\n",
    "You can then convert unitful quantities to other units by calling the `to` method and passing the desired end unit class: \n",
    "\n",
    "```python\n",
    "d_m = d.to(units.m)\n",
    "```\n",
    "\n",
    "If you have a ratio of quanities where all the units should cancel out, you can obtain the dimensionles number using the `dimesionless_unscaled` method. For example writing:\n",
    "```python\n",
    "d_m/d\n",
    "``` \n",
    "yields $1.4959787\\times 10^{11} \\rm{\\frac{m}{AU}}$, but doing:\n",
    "```python\n",
    "(d_m/d).to(units.dimensionless_unscaled)\n",
    "```\n",
    "returns `1.0` as expected."
   ]
  },
  {
   "cell_type": "code",
   "execution_count": 1,
   "metadata": {},
   "outputs": [],
   "source": [
    "#SETUP CELL (modify at your own peril)\n",
    "from astropy import units #access units by doing units.<unit> (i.e. units.au)\n",
    "from astropy import constants\n",
    "import numpy as np #common math functions (i.e. np.sin(x)) and better arrays (i.e. np.array([1,2,3])\n",
    "import matplotlib.pyplot as plt #plotting functions (i.e. plt.plot(x,y))\n",
    "G = constants.G # gravitational constant\n",
    "M_sun = constants.M_sun # mass of the sun\n",
    "R_sun = constants.R_sun # radius of the sun\n",
    "L_sun = constants.L_sun # luminosity of the sun\n",
    "M_earth = constants.M_earth # mass of the earth\n",
    "R_earth = constants.R_earth # radius of the earth\n",
    "M_jup = constants.M_jup # mass of jupiter\n",
    "R_jup = constants.R_jup # radius of jupiter\n",
    "sigma_sb = constants.sigma_sb # Stefan-Boltzmann constant\n",
    "b_wien = constants.b_wien # Wien's displacement constant\n",
    "c = constants.c # speed of light\n",
    "h = constants.h # Planck constant\n",
    "k_B = constants.k_B # Boltzmann constant\n",
    "m_e = constants.m_e # mass of electron\n",
    "m_p = constants.m_p # mass of proton \n",
    "m_n = constants.m_n # mass of neutron (basically just the mass of a proton but whatever)\n",
    "g0 = constants.g0 # standard gravity, 9.8 m/s^2\n",
    "e = constants.e # absolute value of electron/proton charge"
   ]
  },
  {
   "cell_type": "markdown",
   "metadata": {},
   "source": [
    "## What if?\n",
    "\n",
    "This week your homework is a \"fun\" and more open-ended homework :)\n",
    "\n",
    "Your task is to answer **two** \"what if\" questions. These are absurd/fun questions answered seriously, in the style of the famously long-running [XKCD series](https://what-if.xkcd.com/) (click the link to see some examples, but note that you **cannot answer a question already answered there**). You can either come up with your own fun questions and answer them (they don't neccessarily have to be absurd &mdash; follow your curiosity!), or choose two from the list we've come up with below. When answering these it's fine to do \"back of the envelope\" order of magnitude style of math. You will be graded on your reasoning and plausibility of answer, not the exact value. \n",
    "\n",
    "### Kirk/Prof. Nelson's questions (pick two of these if you don't want to come up with your own)\n",
    "\n",
    "1. There is an annular solar eclipse on Saturday. Solar eclipses are rare because the moon must exactly line up with the Sun, but they are a spectacular occurence that only happens (as far as we know it) on Earth! Often after seeing a total solar eclipse people get \"hooked\" on the experience and make it a priority to try to see as many eclipses as they can. \n",
    "\n",
    "    a. While eclipses are rare, eclipsing the Sun is easy. One of my friends shares a birthday with this eclipse, and in my birthday letter to her I told her that every day she can repeat this cosmic alignment with her head, assuming you're standing the right distance away. What if you wanted to eclipse the Sun for your friend? Calculate the geometry and try it out (+5 bonus points for including a photo demonstrating).\n",
    "    \n",
    "**Solution: using the small angle approximation, we can estimate the angle subtended by the Sun as:**\n",
    "$$\\theta_\\odot \\approx \\frac{D_\\odot}{d_\\odot} = \\frac{1.4\\times 10^9 \\rm{m}}{1.5 \\times 10^{11} \\rm{m}} \\approx 10^{-2} \\textrm{ rad}$$\n",
    "**We need to match this angle with a typical human head. Googling shows human heads are roughly 50 cm in circumference &mdash; approximating the human head as a sphere then gives a diameter of roughly 16 cm. Using this we can set up a ratio:**\n",
    "$$\\frac{D_\\rm{head}}{d} \\approx 10^{-2} \\textrm{ rad} \\rightarrow d \\approx 10^{2}D_\\rm{head} \\approx \\boxed{10\\rm{m}}$$\n",
    "**Note that this is just a rough order of magnitude estimate, and you could get different answers depending on rounding / what you use as a human head diameter / etc.**"
   ]
  },
  {
   "cell_type": "markdown",
   "metadata": {},
   "source": [
    "    b. With the rise of private space companies, it's becoming easier and easier to put all kinds of junk into orbit. This has of course included advertising and entertainment, with proposals to launch giant space billboards and artificial meteor showers. What if you were a billionaire obsessed with eclipses, and you want to create your own personal eclipse on demand &mdash; how big and at what height would a hypothetical satellite have to be to create a person-sized eclipse?\n",
    "    \n",
    "**Solution: Again there are a lot of possible answers here depending upon the height of the satellite and how big you want the resulting shadow to be, but let's say the satellite is in low Earth orbit (roughly 500 km up) and we want it to just barely eclipse the Sun. Then we have the same ratio as before but are instead solving for the diameter of the satellite:**\n",
    "\n",
    "$$\\frac{D_\\rm{sat}}{d} \\approx 10^{-2}\\textrm{ rad} \\rightarrow D_\\rm{sat} \\approx 10^{-2}d = 10^{-2}500\\rm{km} = \\boxed{5\\rm{m}}$$"
   ]
  },
  {
   "cell_type": "markdown",
   "metadata": {},
   "source": [
    "    c. Would either scenario (in a or b) \"re-create\" all of the cool eclipse effects we observe on Earth? Why or why not? If no, what would you need to modify about the set-up to part b) to create these effects?\n",
    "    \n",
    "**Solution: The reason most of the \"cool\" eclipse effects happen (changing temperature, sky gets dark so you can see the stars / corona, etc.) is because the moon casts a really big shadow on the Earth. Unless your satellite for part b is huge, neither the head nor the satellite will cast a shadow large enough to create a shadow as large as the moon's and thus while the Sun will be momentarily blocked out you won't get the rest of the cool effects**"
   ]
  },
  {
   "cell_type": "markdown",
   "metadata": {},
   "source": [
    "2. In the distant future, the Sun will expand into a red giant. This will be bad for the Earth.\n",
    "\n",
    "    a. Supposing we make it to this grim future, what if we were really attached to the Earth and and wanted to keep living on it. How far would we need to move the Earth's orbit to preserve habitable conditions? \n",
    "    \n",
    "The flux at Earth now (which is very habitable) is roughly $1400$ $\\rm{\\frac{W}{m^2}}$. There are a few ways to answer this, but the easiest way is to just assume we need to keep this flux constant. Red giants have temperatures around 3000K, and let's assume the Sun manages to expand so much such that it's radius in the future is roughly 1 AU. The luminosity of a star is given by:\n",
    "\n",
    "$$L = 4\\pi R^2 \\sigma T^4$$\n",
    "\n",
    "Thus the ratio of the luminosity of the current and future Sun is:\n",
    "\n",
    "$$\\frac{L_\\rm{future}}{L_\\odot} = \\left(\\frac{R_\\rm{future}}{R_\\odot}\\right)^2 \\left(\\frac{T_\\rm{future}}{T_\\odot}\\right)^4$$\n",
    "\n",
    "The flux received at Earth is given by:\n",
    "\n",
    "$$f = \\frac{L}{4\\pi d^2}$$\n",
    "\n",
    "We are going to change $L$ and $d$ but want $f$ to remain constant, so the ratio of the flux now and flux in the future will be $1$:\n",
    "\n",
    "$$1 = \\frac{f_\\rm{future}}{f_\\rm{now}} = \\left(\\frac{L_\\rm{future}}{L_\\odot}\\right)\\left(\\frac{d_\\rm{now}}{d_\\rm{future}}\\right)^2$$\n",
    "    \n",
    "Plugging in our ratio for the luminosities from before then gives: \n",
    "\n",
    "$$1 = \\frac{f_\\rm{future}}{f_\\rm{now}} = \\left(\\frac{R_\\rm{future}}{R_\\odot}\\right)^2 \\left(\\frac{T_\\rm{future}}{T_\\odot}\\right)^4\\left(\\frac{d_\\rm{now}}{d_\\rm{future}}\\right)^2$$\n",
    "\n",
    "Solving for $d_\\rm{future}$ gives:\n",
    "\n",
    "$$d_\\rm{future} = \\left(\\frac{R_\\rm{future}}{R_\\odot}\\right) \\left(\\frac{T_\\rm{future}}{T_\\odot}\\right)^2d_\\rm{now}$$\n",
    "\n",
    "Plugging in the values we get:\n",
    "\n",
    "$$d_\\rm{future} = \\left(\\frac{1.5\\times 10^{11}\\rm{m}}{7\\times 10^8 \\rm{m}}\\right) \\left(\\frac{3000\\rm{K}}{6000\\rm{K}}\\right)^21\\rm{AU}\\approx\\boxed{50\\rm{AU}}$$\n",
    "\n",
    "**Again this is just a rough order of magnitude estimate, so depending upon what values you use for the temperature of the present and future Sun, the size of the future Sun, etc. you may get a different answer.**"
   ]
  },
  {
   "cell_type": "markdown",
   "metadata": {},
   "source": [
    "b. How much energy would this take? How long would it take? Estimate this both in terms of today's technology (i.e. total societal energy output today) and in terms of some crazy futuristic technology (like nuclear fusion, Dyson spheres, antimatter, etc.)\n",
    "\n",
    "**Solution: We can calculate the energy change by calculating the current kinetic and potential energies of the Earth's orbit and comparing them to the kinetic and potential energies of future Earth's orbit at around 50 AU. Kinetic energy is just $K = \\frac{1}{2}Mv^2$ with $v=\\sqrt{\\frac{GM}{r}}$ and gravitational potential energy is just $U = -\\frac{GMm}{r}$. The total energy is thus:**\n",
    "$$E = U+K = -\\frac{GM_\\odot M_\\oplus}{d} + \\frac{GM_\\odot M_\\oplus}{2d} = -\\frac{GM_\\odot M_\\oplus}{2d} = \\frac{U}{2}$$\n",
    "\n",
    "**You'll notice that this is half the gravitational potential energy! This is a well known result in astronomy called the virial theorem. Anyways, to get the energy delta we need:** \n",
    "\n",
    "$$\\Delta E = E_\\rm{future} - E_\\rm{now}$$\n",
    "\n",
    "**The only thing that is changing in our energy equation is the distance, so we can write:**\n",
    "\n",
    "$$\\Delta E = \\frac{GM_\\odot M_\\oplus}{2}(\\frac{1}{d_\\rm{now}} - \\frac{1}{d_\\rm{future}})$$\n",
    "\n",
    "**We'll calculate this number in the code cell below:**"
   ]
  },
  {
   "cell_type": "code",
   "execution_count": 4,
   "metadata": {},
   "outputs": [
    {
     "data": {
      "text/latex": [
       "$2.5960575 \\times 10^{33} \\; \\mathrm{J}$"
      ],
      "text/plain": [
       "<Quantity 2.59605751e+33 J>"
      ]
     },
     "execution_count": 4,
     "metadata": {},
     "output_type": "execute_result"
    }
   ],
   "source": [
    "ΔE = G*M_sun*M_earth/2*(1/(1*units.AU)-1/(50*units.AU))\n",
    "ΔE.to(units.J)"
   ]
  },
  {
   "cell_type": "markdown",
   "metadata": {},
   "source": [
    "**This is a lot of energy! According to [statista](https://www.statista.com/statistics/280704/world-power-consumption/) last year humanity consumed roughly 25,000 TWh of electricity. We can convert this to an average power rate by dividing by the number of hours in a year:**"
   ]
  },
  {
   "cell_type": "code",
   "execution_count": 6,
   "metadata": {},
   "outputs": [
    {
     "data": {
      "text/latex": [
       "$2.8519279 \\times 10^{12} \\; \\mathrm{W}$"
      ],
      "text/plain": [
       "<Quantity 2.8519279e+12 W>"
      ]
     },
     "execution_count": 6,
     "metadata": {},
     "output_type": "execute_result"
    }
   ],
   "source": [
    "humanityPower = (2.5e4*units.TW*units.hr/units.yr).to(units.W)\n",
    "humanityPower"
   ]
  },
  {
   "cell_type": "markdown",
   "metadata": {},
   "source": [
    "**Suppose we could harness all this power to (instead of powering our lights) move the Earth's orbit. We can calculate how long it would take to move it by:**\n",
    "\n",
    "$$t_\\rm{move} = \\frac{\\Delta E}{P_\\rm{humanity}}$$"
   ]
  },
  {
   "cell_type": "code",
   "execution_count": 8,
   "metadata": {},
   "outputs": [
    {
     "data": {
      "text/latex": [
       "$2.8845083 \\times 10^{13} \\; \\mathrm{yr}$"
      ],
      "text/plain": [
       "<Quantity 2.88450834e+13 yr>"
      ]
     },
     "execution_count": 8,
     "metadata": {},
     "output_type": "execute_result"
    }
   ],
   "source": [
    "t = ΔE/humanityPower\n",
    "t.to(units.yr)"
   ]
  },
  {
   "cell_type": "markdown",
   "metadata": {},
   "source": [
    "**This is a very long time (more than a trillion years) and thus the Sun would engulf us before we could move far eneough away. Thus we would need a better power source. What if we could harness the energy of the Sun with a Dyson sphere? Then our time to move becomes:**\n",
    "$$t_\\rm{move} = \\frac{\\Delta E}{L_\\odot}$$"
   ]
  },
  {
   "cell_type": "code",
   "execution_count": 9,
   "metadata": {},
   "outputs": [
    {
     "data": {
      "text/latex": [
       "$0.21490099 \\; \\mathrm{yr}$"
      ],
      "text/plain": [
       "<Quantity 0.21490099 yr>"
      ]
     },
     "execution_count": 9,
     "metadata": {},
     "output_type": "execute_result"
    }
   ],
   "source": [
    "t = ΔE/L_sun\n",
    "t.to(units.yr)"
   ]
  },
  {
   "cell_type": "markdown",
   "metadata": {},
   "source": [
    "**That's much more doable! Realistically we can't harness 100% of the Sun's energy (even in the far off distant future), but even harnessing a 1000th of the Sun's power would still allow us to move the Earth in only hundreds of years.**\n",
    "\n",
    "c. Suppose future humans decide that's too much effort, and instead vote to just move everyone somewhere else in the solar system. Will there be any good places to live then that are uninhabitable now? Why or why not? Provide some **quantitative** support for your answer.\n",
    "\n",
    "**Solution: We need a place that's roughly 50 AU out in the solar system. Pluto has a very elliptical orbit, but at its furthest it gets out this far! Thus it might be our best shot if we wanted to try to make something work without moving the Earth. Answers here may vary depending on your distance and how strict you are with the tolerance (at its closest Pluto gets to only 30ish AU away).**"
   ]
  },
  {
   "cell_type": "markdown",
   "metadata": {},
   "source": [
    "3. Suppose you don't believe humanity will make it to the end of our star's life. What if you wanted to preserve some record of our existence? \n",
    "\n",
    "    a. Your first goal will be to make sure your record lasts at least a billion years. What methods might you choose and why? Provide some **quantitative** (they can be very rough) estimates to support your answer.\n",
    "    \n",
    "**Solution: There are a lot of creative ways to answer this, but my first instinct is always rocks. The longest lasting \"writing\" we have today was carved by ancient people's all over the world into rocks. Rocks last way longer than computer memory (computer memory lasts only 10s of years!) I read a [paper](https://geosci.uchicago.edu/~archer/deep_earth_readings/sleep.2006.archean_weat.pdf) and found that over a million years quartz (on Earth) could weather as little as 4 meters every million years from water. We need our carvings to last a billion years, so assuming our carving was exposed that entire time we would need to carve at least 4 kilometers deep. That's pretty deep, and it would be pretty hard to find a layer of rock that is pure quartz 4 kilometers deep, but it's one (pretty absurd) option. If we could stop the quartz from getting rained on it would be visible practically indefinitely, so carving quartz on the Moon would be a much better choice as we'd only need to carve deep enough for shadows to be visible from far away, which is on the order of meters and not kilometers.**\n",
    "\n",
    "**Another option taking advantage of astrophysics would be to embed our message in a long lived astrophysical object: for example, we could build a pattern of artificial star shades around our Sun that contained a morse code type pattern. As long as the starshades don't de-orbit this would then be visible for at least a few billion years! With enough mass or mastery of crazy magnetic fields we could do something similar artificially altering the wobbles of pulsars.**\n",
    "\n",
    "**Another option (also taking advantage of astrophysics) would be to try to shorten the time your message carrying object experiences by either moving it very fast or embedding it deep in a gravitational field. If you move something fast enough (or place it close enough to a black hole) you could then use conventional memory storage devices (like on our computers). If you do this though make sure you calculate how close / how fast your message would need to be!**"
   ]
  },
  {
   "cell_type": "markdown",
   "metadata": {},
   "source": [
    "b. Your second goal will be to make sure there is a significant chance *someone* might read your record someday, thus ideally you'll try to make your message visible to others at a scale visible to others in the galaxy. Combining with your answer to part a, what methods might you choose? Again provide some **quantitative** (but can be very rough) estimates to support your answer. Comment on the feasibility / difficulty of your proposed plan.\n",
    "\n",
    "**Solution: Of the options posed above, the second is easiest for others to see, so if you said that then you're done! A quantitative estimate for any of those kinds of answers is just how long (astrophysically) those kinds of objects should last and thus your message will be visible. For the \"carving onto rocks\" option you would need to likely somehow carve on a lot of rocks (across the galaxy, i.e. with some kind of robots that could survive such a journey). For the time bending option you would likewise need to somehow send your messages in a bottle to a lot of places or have them blasting out continuous electromagnetic (i.e. radio) messages at a very high (you can and should calculate how high based on relativistic effects) frequency. If they're broadcasting you'll also probably need very high power and/or a lot of probes because the flux will drop off as the inverse square of the distance!**\n",
    "    \n",
    "c. Suppose civilizations at least as advanced as ours occur at least as often across the universe, and that such life is randomly distributed in space. Assume also that all such civilizations are at least as vain as us in wanting to be remembered. Given that we haven't detected any signs of life thus far, put an *upper* limit on the number of advanced civilizations that could have lived (or could be living) in the Milky Way.\n",
    " \n",
    "**Solution: The Milky Way has been around for basically the age of the universe, and since the messages only have to last 10 billion years that means that really there could have been infinite aliens living in the Milky Way as long as they all died more than 1 billion years ago. We can be a little more precise in calculating an upper bound for the number living today given that we haven't detected any if we assume that the entire galaxy is equally \"habitable\" by simply looking at how long we have been listening. The longest such timescale would be for aliens \"broadcasting\" their messages to us &mdash; since we invented radio telescopes in the 50s and 60s the time period we could have \"detected\" aliens broadcasting is roughly 50 years. These means we've effectively surveyed a sphere 50 light years in diameter. The total volume of the Milky Way is roughly 15 trillion cubic light years, so a rough upper limit would be:**\n",
    "\n",
    "$$N = \\frac{15\\times 10^{12}\\rm{ly}^3}{50^3\\rm{ly}^3} \\approx 4\\times 10^6$$\n",
    "\n",
    "**Thus there could be 4 million aliens who have sent us messages and we just haven't had time to hear them! Note that again you could get a lot of different answers here depending on your assumptions, this is just a very crude and simple estimate.**"
   ]
  },
  {
   "cell_type": "code",
   "execution_count": null,
   "metadata": {},
   "outputs": [],
   "source": []
  }
 ],
 "metadata": {
  "kernelspec": {
   "display_name": "Python 3 (ipykernel)",
   "language": "python",
   "name": "python3"
  },
  "language_info": {
   "codemirror_mode": {
    "name": "ipython",
    "version": 3
   },
   "file_extension": ".py",
   "mimetype": "text/x-python",
   "name": "python",
   "nbconvert_exporter": "python",
   "pygments_lexer": "ipython3",
   "version": "3.11.5"
  }
 },
 "nbformat": 4,
 "nbformat_minor": 2
}
