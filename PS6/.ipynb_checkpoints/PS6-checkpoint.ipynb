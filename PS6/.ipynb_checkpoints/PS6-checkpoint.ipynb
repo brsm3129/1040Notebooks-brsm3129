{
 "cells": [
  {
   "cell_type": "markdown",
   "metadata": {},
   "source": [
    "# ASTR 1040 Problem Set 6\n",
    "\n",
    "The first cell (below) contains lots of helpful constants you may need to use throughout the semester. Make sure to run it each time before you start working! \n",
    "\n",
    "For reference, all of the `astropy` constants as well as examples can be found [here](https://docs.astropy.org/en/stable/constants/index.html). Likewise all of the units and their names / how to access them can be found [here](https://docs.astropy.org/en/stable/units/index.html). \n",
    "\n",
    "To create a variable with units you need to multiply by the corresponding unit class:\n",
    "\n",
    "```python\n",
    "d = 1 * units.au\n",
    "```\n",
    "\n",
    "You can then convert unitful quantities to other units by calling the `to` method and passing the desired end unit class: \n",
    "\n",
    "```python\n",
    "d_m = d.to(units.m)\n",
    "```\n",
    "\n",
    "If you have a ratio of quanities where all the units should cancel out, you can obtain the dimensionles number using the `dimesionless_unscaled` method. For example writing:\n",
    "```python\n",
    "d_m/d\n",
    "``` \n",
    "yields $1.4959787\\times 10^{11} \\rm{\\frac{m}{AU}}$, but doing:\n",
    "```python\n",
    "(d_m/d).to(units.dimensionless_unscaled)\n",
    "```\n",
    "returns `1.0` as expected."
   ]
  },
  {
   "cell_type": "code",
   "execution_count": 2,
   "metadata": {},
   "outputs": [],
   "source": [
    "#SETUP CELL (modify at your own peril)\n",
    "from astropy import units #access units by doing units.<unit> (i.e. units.au)\n",
    "from astropy import constants\n",
    "import numpy as np #common math functions (i.e. np.sin(x)) and better arrays (i.e. np.array([1,2,3])\n",
    "import matplotlib.pyplot as plt #plotting functions (i.e. plt.plot(x,y))\n",
    "G = constants.G # gravitational constant\n",
    "M_sun = constants.M_sun # mass of the sun\n",
    "R_sun = constants.R_sun # radius of the sun\n",
    "L_sun = constants.L_sun # luminosity of the sun\n",
    "M_earth = constants.M_earth # mass of the earth\n",
    "R_earth = constants.R_earth # radius of the earth\n",
    "M_jup = constants.M_jup # mass of jupiter\n",
    "R_jup = constants.R_jup # radius of jupiter\n",
    "sigma_sb = constants.sigma_sb # Stefan-Boltzmann constant\n",
    "b_wien = constants.b_wien # Wien's displacement constant\n",
    "c = constants.c # speed of light\n",
    "h = constants.h # Planck constant\n",
    "k_B = constants.k_B # Boltzmann constant\n",
    "m_e = constants.m_e # mass of electron\n",
    "m_p = constants.m_p # mass of proton \n",
    "m_n = constants.m_n # mass of neutron (basically just the mass of a proton but whatever)\n",
    "g0 = constants.g0 # standard gravity, 9.8 m/s^2\n",
    "e = constants.e # absolute value of electron/proton charge"
   ]
  },
  {
   "cell_type": "markdown",
   "metadata": {},
   "source": [
    "### Note: By now I trust that you know how to insert and edit markdown/code cells in your Jupyter notebooks, so I'm only including the questions and leaving it up to you to split/insert cells as needed to provide your answers (see the edit and insert menus at the top of the page).\n",
    "\n",
    "## Problem 1: Proof of a black hole? [50 points]\n",
    "\n",
    "The galactic center group at UCLA has done remarkable work measuring the orbits of stars close to the supermassive black hole at the center of our galaxy (check out some cool movies of their work [here](https://galacticcenter.astro.ucla.edu/animation.html)). \n",
    "\n",
    "The closest star to our supermassive black hole &mdash; S2 &mdash; has an orbit that has been fully observed (i.e. we've watched it go around at least one full revolution).\n",
    "\n",
    "### a.) Estimating enclosed mass from orbital parameters: [5 points]\n",
    "Given that the period of its orbit is roughly 16 years and it has a semimajor axis of roughly 1000 AU, estimate the mass enclosed within the orbit of S2.\n",
    "\n",
    "$$\n",
    " (M_1 + M_2) = \\frac{4\\pi^2}{G} \\cdot \\frac{a^3}{p^2}\n",
    "$$"
   ]
  },
  {
   "cell_type": "code",
   "execution_count": null,
   "metadata": {},
   "outputs": [],
   "source": [
    "a = 16 * units.years\n",
    "p = "
   ]
  },
  {
   "cell_type": "markdown",
   "metadata": {},
   "source": [
    "### b.) How big is the black hole? [5 points]\n",
    "What is the Schwarszchild radius ($R_s$) of a hypothetical supermassive black hole with the mass you calculated in part a? \n"
   ]
  },
  {
   "cell_type": "code",
   "execution_count": null,
   "metadata": {},
   "outputs": [],
   "source": []
  },
  {
   "cell_type": "markdown",
   "metadata": {},
   "source": [
    "### c.) How fast? [20 points]\n",
    "At perihelion S2 is the fastest moving star known to humanity. Its orbit is highly elliptical (*not* circular), with an eccentricity $e \\approx 0.88$. Previously in class we have always assumed circular orbits, and while this works for many things when the eccentricity is high like this we must account for this in our equations.\n",
    "\n",
    "At perihelion (closest approach, which we will denote $r_p$) and aphelion (farthest approach, which we will denote $r_a$) the velocity of the star is purely tangential (i.e. at right angle with semi-major axis). The eccentricity $e$ is defined in such a way that $r_p = a(1-e)$ and $r_a = a(1+e)$ (you can intuitively see that this works because for a circle $e = 0$ and $r_p = a = r_a$). \n",
    "\n",
    "Utilizing the fact that angular momentum and total energy must be conserved, and that the velocities are purely tangential at these two points, derive a formula for the velocity of the star at perihelion and calculate the maximum speed of S2 as a percentage of the speed of light.\n",
    "\n",
    "**Hint:** you *cannot* just use $v = \\sqrt{\\frac{GM}{r}}$ (your answer will be wrong by a factor of $\\approx 1.4$, and you should see why if you successfully do this out).\n",
    "\n",
    "**Note for people doing this in Jupyter notebook:** You must show your work to get credit for this part! You can type in math by using LaTeX syntax &mdash; good examples showing how to do this [here](http://chebe163.caltech.edu/2018w/handouts/intro_to_latex.html)"
   ]
  },
  {
   "cell_type": "code",
   "execution_count": null,
   "metadata": {},
   "outputs": [],
   "source": []
  },
  {
   "cell_type": "markdown",
   "metadata": {},
   "source": [
    "### d.) Do we need relativity? [5 points]\n",
    "\n",
    "Based on your answer to part c, does relativity play a *large* role in determing the orbit of S2? Why or why not? If yes, should we trust our answers to parts a, b, and c?\n"
   ]
  },
  {
   "cell_type": "code",
   "execution_count": null,
   "metadata": {},
   "outputs": [],
   "source": []
  },
  {
   "cell_type": "markdown",
   "metadata": {},
   "source": [
    "### e.) Supermassive water blobs: [10 points]\n",
    "\n",
    "$r_p$ places an upper limit on the extent the mass interior to S2 *could* have. Suppose all of the mass driving the orbit was in a sphere with radius $r_p$ &mdash; what would its density be? Compare your answer to the density of a black hole of the same mass. What if all of the mass interior to S2's orbit was a giant sphere of water (density $\\sim 1000 \\textrm{ kg}/\\rm{m^3}$) &mdash; would we be able to tell the difference based on the orbit alone? \n",
    "\n",
    "Google around and comment on a few other reasons we think the center of the galaxy is host to a supermassive black hole and not a supermassive blob of water. "
   ]
  },
  {
   "cell_type": "code",
   "execution_count": null,
   "metadata": {},
   "outputs": [],
   "source": []
  },
  {
   "cell_type": "markdown",
   "metadata": {},
   "source": [
    "### f.) Photographic evidence: [5 points]\n",
    "Conclusive \"proof\" that there is a black hole at the center of our galaxy was obtained more recently by the EHT, which found emission coming from a region $\\sim 2-3 R_s$ away from the central object. Given your answer to e, what makes this observation the strongest evidence yet that Sag A* is a black hole?"
   ]
  },
  {
   "cell_type": "code",
   "execution_count": null,
   "metadata": {},
   "outputs": [],
   "source": []
  },
  {
   "cell_type": "markdown",
   "metadata": {},
   "source": [
    "## Problem 2: Twin \"paradox\" [20 points]\n",
    "\n",
    "In special relativity time dilation goes like $\\Delta t' = \\gamma \\Delta t$ (with $\\gamma = \\frac{1}{\\sqrt{1-v^2/c^2}}$). But whose time corresponds to $\\Delta t$ and whose corresponds to $\\Delta t'$? This is where the famous \"twin paradox\" arises from: the twin in the spaceship will observe the Earth to be moving at a constant speed while the twin on Earth will observe the spaceship to be the thing that is moving, thus won't they disagree about who ends up older? \n",
    "\n",
    "One often invoked \"resolution\" of the twin paradox is to say that you need to use *general* relativity to resolve this, since when the twin in the spaceship turns around they must accelerate and thus we must do all of the time dilation calculations in GR. **This is wrong**. The twin paradox can be easily resolved with special relativity alone! \n",
    "\n",
    "Read the explanation on the [Wikipedia page](https://en.wikipedia.org/wiki/Twin_paradox#Relativity_of_simultaneity), and in particular look at the diagram in the \"relativity of simultaneity\" section. This question is purely qualitative, but I'd like you to explain (in your own words) the following:\n",
    "\n",
    "### a.) What is a Minkowski diagram? [10 points]\n",
    "\n",
    "Google, use the Wikipedia page, your book, or any other resources you like, and explain in your own words what Minkowski diagrams represent. What determines the lines of simultaneity and why does light have a slope of $\\pm$1 (in the usual case where the time axis is in terms of $ct$)? \n",
    "\n",
    "### b.) Resolving the twin paradox: [10 points]\n",
    "\n",
    "How does the Minkowski diagram on the Wiki page resolve the twin paradox? Does this use general relativity? Explain, in your own words and basing your answer off of the Minkowski diagram, what an observer on the ship would see as they turned around in terms of the corresponding time on Earth. What about the twin on Earth &mdash; what do they see? "
   ]
  },
  {
   "cell_type": "markdown",
   "metadata": {},
   "source": [
    "## Problem 3: Special relativity and the Kessel Run [30 points]\n",
    "\n",
    "The Empire has recently greatly restricted trading, making it difficult for smugglers to ferry supplies to the Rebels. Fortunately, Han Solo discovers that Imperial scanners don't work properly on ships that are moving sufficiently fast, and he is commissioned by the Resistance to complete the famous \"Kessel run\" trading route, bringing back much-needed supplies for the war effort. \n",
    "\n",
    "He sets off from the Rebel base in the Millenium Falcon at 2/3 of the speed of light (the precise speed at which the Imperial scanners fail) to complete the Kessel run. From the rest-frame of the Empire / Resistance cartographers they measure the Kessel Run trade route to be a distance (to two significant figures) of 16 parsecs (round trip, 8 parsecs each way)."
   ]
  },
  {
   "cell_type": "code",
   "execution_count": 1,
   "metadata": {},
   "outputs": [
    {
     "data": {
      "text/html": [
       "<iframe width=\"560\" height=\"315\" src=\"https://www.youtube.com/embed/fjYuw6zWk_Y?si=vaV80xRfIxJWJDbd\" title=\"YouTube video player\" frameborder=\"0\" allow=\"accelerometer; autoplay; clipboard-write; encrypted-media; gyroscope; picture-in-picture; web-share\" allowfullscreen></iframe>\n"
      ],
      "text/plain": [
       "<IPython.core.display.HTML object>"
      ]
     },
     "metadata": {},
     "output_type": "display_data"
    }
   ],
   "source": [
    "%%HTML\n",
    "<iframe width=\"560\" height=\"315\" src=\"https://www.youtube.com/embed/fjYuw6zWk_Y?si=vaV80xRfIxJWJDbd\" title=\"YouTube video player\" frameborder=\"0\" allow=\"accelerometer; autoplay; clipboard-write; encrypted-media; gyroscope; picture-in-picture; web-share\" allowfullscreen></iframe>"
   ]
  },
  {
   "cell_type": "markdown",
   "metadata": {},
   "source": [
    "### a.) How long does the entire journey take (in years), as measured by Han Solo aboard the Millenium Falcon? [10 points]\n",
    "\n",
    "### b.) World-lines in a galaxy far, far away: [5 points]\n",
    "Draw a Minkowski diagram illustrating the journey. Include a world-line for the rebels and one for the crew of the Millenium Falcon. Include at least 4 lines of simultaneity (one at beginning of trip, two at the middle, and one at the end) and label their slopes.\n",
    "\n",
    "**Note:** If you are completing your homework in a Jupyter notebook you can draw your diagram by hand and embed a picture in your notebook following the steps [here](https://stackoverflow.com/questions/32370281/how-to-embed-image-or-picture-in-jupyter-notebook-either-from-a-local-machine-o).\n",
    "\n",
    "### c.) Twin paradox redux: [5 points]\n",
    "When he returns, what is the age difference (in years) between the rebels who stayed behind on the secret base vs. Han Solo? Who aged less, and why? \n",
    "\n",
    "### d.) Kessel run in 12 pc? [10 points]\n",
    "What distance does Han Solo measure for the length of the Kessel Run? Answer to two significant figures and compare with Star Wars lore, which quotes a distance of 12 pc. "
   ]
  }
 ],
 "metadata": {
  "kernelspec": {
   "display_name": "Python 3 (ipykernel)",
   "language": "python",
   "name": "python3"
  },
  "language_info": {
   "codemirror_mode": {
    "name": "ipython",
    "version": 3
   },
   "file_extension": ".py",
   "mimetype": "text/x-python",
   "name": "python",
   "nbconvert_exporter": "python",
   "pygments_lexer": "ipython3",
   "version": "3.10.9"
  }
 },
 "nbformat": 4,
 "nbformat_minor": 2
}
