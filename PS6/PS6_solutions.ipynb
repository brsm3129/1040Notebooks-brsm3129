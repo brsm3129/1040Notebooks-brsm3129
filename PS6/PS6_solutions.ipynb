{
 "cells": [
  {
   "cell_type": "markdown",
   "metadata": {},
   "source": [
    "# ASTR 1040 Problem Set 6\n",
    "\n",
    "The first cell (below) contains lots of helpful constants you may need to use throughout the semester. Make sure to run it each time before you start working! \n",
    "\n",
    "For reference, all of the `astropy` constants as well as examples can be found [here](https://docs.astropy.org/en/stable/constants/index.html). Likewise all of the units and their names / how to access them can be found [here](https://docs.astropy.org/en/stable/units/index.html). \n",
    "\n",
    "To create a variable with units you need to multiply by the corresponding unit class:\n",
    "\n",
    "```python\n",
    "d = 1 * units.au\n",
    "```\n",
    "\n",
    "You can then convert unitful quantities to other units by calling the `to` method and passing the desired end unit class: \n",
    "\n",
    "```python\n",
    "d_m = d.to(units.m)\n",
    "```\n",
    "\n",
    "If you have a ratio of quanities where all the units should cancel out, you can obtain the dimensionles number using the `dimesionless_unscaled` method. For example writing:\n",
    "```python\n",
    "d_m/d\n",
    "``` \n",
    "yields $1.4959787\\times 10^{11} \\rm{\\frac{m}{AU}}$, but doing:\n",
    "```python\n",
    "(d_m/d).to(units.dimensionless_unscaled)\n",
    "```\n",
    "returns `1.0` as expected."
   ]
  },
  {
   "cell_type": "code",
   "execution_count": 1,
   "metadata": {},
   "outputs": [],
   "source": [
    "#SETUP CELL (modify at your own peril)\n",
    "from astropy import units #access units by doing units.<unit> (i.e. units.au)\n",
    "from astropy import constants\n",
    "import numpy as np #common math functions (i.e. np.sin(x)) and better arrays (i.e. np.array([1,2,3])\n",
    "import matplotlib.pyplot as plt #plotting functions (i.e. plt.plot(x,y))\n",
    "G = constants.G # gravitational constant\n",
    "M_sun = constants.M_sun # mass of the sun\n",
    "R_sun = constants.R_sun # radius of the sun\n",
    "L_sun = constants.L_sun # luminosity of the sun\n",
    "M_earth = constants.M_earth # mass of the earth\n",
    "R_earth = constants.R_earth # radius of the earth\n",
    "M_jup = constants.M_jup # mass of jupiter\n",
    "R_jup = constants.R_jup # radius of jupiter\n",
    "sigma_sb = constants.sigma_sb # Stefan-Boltzmann constant\n",
    "b_wien = constants.b_wien # Wien's displacement constant\n",
    "c = constants.c # speed of light\n",
    "h = constants.h # Planck constant\n",
    "k_B = constants.k_B # Boltzmann constant\n",
    "m_e = constants.m_e # mass of electron\n",
    "m_p = constants.m_p # mass of proton \n",
    "m_n = constants.m_n # mass of neutron (basically just the mass of a proton but whatever)\n",
    "g0 = constants.g0 # standard gravity, 9.8 m/s^2\n",
    "e = constants.e # absolute value of electron/proton charge"
   ]
  },
  {
   "cell_type": "markdown",
   "metadata": {},
   "source": [
    "### Note: By now I trust that you know how to insert and edit markdown/code cells in your Jupyter notebooks, so I'm only including the questions and leaving it up to you to split/insert cells as needed to provide your answers (see the edit and insert menus at the top of the page).\n",
    "\n",
    "## Problem 1: Proof of a black hole? [50 points]\n",
    "\n",
    "The galactic center group at UCLA has done remarkable work measuring the orbits of stars close to the supermassive black hole at the center of our galaxy (check out some cool movies of their work [here](https://galacticcenter.astro.ucla.edu/animation.html)). \n",
    "\n",
    "The closest star to our supermassive black hole &mdash; S2 &mdash; has an orbit that has been fully observed (i.e. we've watched it go around at least one full revolution).\n",
    "\n",
    "### a.) Estimating enclosed mass from orbital parameters: [5 points]\n",
    "Given that the period of its orbit is roughly 16 years and it has a semimajor axis of roughly 1000 AU, estimate the mass enclosed within the orbit of S2.\n",
    "\n",
    "**Solution:**\n",
    "$$M = \\frac{4\\pi^2}{G}\\frac{a^3}{P^2} = 1\\rm{\\frac{M_\\odot yr^2}{AU^3}}\\frac{(1000\\rm{AU})^3}{(16\\rm{yr})^2} = \\boxed{3.9\\times 10^6 M_\\odot}$$"
   ]
  },
  {
   "cell_type": "markdown",
   "metadata": {},
   "source": [
    "### b.) How big is the black hole? [5 points]\n",
    "What is the Schwarszchild radius ($R_s$) of a hypothetical supermassive black hole with the mass you calculated in part a? \n",
    "\n",
    "**Solution:**\n",
    "$$R_s = \\frac{2GM}{c^2} = 3\\rm{km}(\\frac{M}{M_\\odot}) = 3\\rm{km}(3.9\\times 10^6) = \\boxed{1.2\\times 10^7 \\rm{km} = 0.08 \\rm{AU}}$$"
   ]
  },
  {
   "cell_type": "markdown",
   "metadata": {},
   "source": [
    "### c.) How fast? [20 points]\n",
    "At perihelion S2 is the fastest moving star known to humanity. Its orbit is highly elliptical (*not* circular), with an eccentricity $e \\approx 0.88$. Previously in class we have always assumed circular orbits, and while this works for many things when the eccentricity is high like this we must account for this in our equations.\n",
    "\n",
    "At perihelion (closest approach, which we will denote $r_p$) and aphelion (farthest approach, which we will denote $r_a$) the velocity of the star is purely tangential (i.e. at right angle with semi-major axis). The eccentricity $e$ is defined in such a way that $r_p = a(1-e)$ and $r_a = a(1+e)$ (you can intuitively see that this works because for a circle $e = 0$ and $r_p = a = r_a$). \n",
    "\n",
    "Utilizing the fact that angular momentum and total energy must be conserved, and that the velocities are purely tangential at these two points, derive a formula for the velocity of the star at perihelion and calculate the maximum speed of S2 as a percentage of the speed of light.\n",
    "\n",
    "**Hint:** you *cannot* just use $v = \\sqrt{\\frac{GM}{r}}$ (your answer will be wrong by a factor of $\\approx 1.4$, and you should see why if you successfully do this out).\n",
    "\n",
    "**Note for people doing this in Jupyter notebook:** You must show your work to get credit for this part! You can type in math by using LaTeX syntax &mdash; good examples showing how to do this [here](http://chebe163.caltech.edu/2018w/handouts/intro_to_latex.html)"
   ]
  },
  {
   "cell_type": "markdown",
   "metadata": {},
   "source": [
    "**Solution: We are asked to use conservation of momentum and energy at perihelion and aphelion of the orbit to derive the maximum speed of the star S2, giving our answer as a percentage of the speed of light. Angular momentum is expressed as:**\n",
    "\n",
    "$$L = m\\omega r^2 = mvr$$\n",
    "\n",
    "**and the total energy (kinetic + potential) at any point in the orbit is given as:**\n",
    "\n",
    "$$E = -\\frac{GMm}{r} + \\frac{1}{2}mv^2$$\n",
    "\n",
    "**Thus, at perihelion and aphelion, conservation of energy and momentum yield the following relationships:**\n",
    "\n",
    "$$-\\frac{GM}{r_p} + \\frac{v_p^2}{2} = -\\frac{GM}{r_a} + \\frac{v_a^2}{2}$$\n",
    "$$r_pv_p = r_av_a$$\n",
    "\n",
    "**Notice that the mass of the star ($m$) cancels out from all of these which is nice! We are looking for a relationship between $v_p$ that depends on $a$, $M$, and $e$ alone. Looking at the conservation of angular momentum equation, we see that an easy relationship for $v_p$ in terms of $v_a$, $r_a$, and $r_p$ can be obtained:**\n",
    "\n",
    "$$v_p = \\frac{r_a}{r_p}v_a$$\n",
    "\n",
    "**Noting that (as given above) $r_a = a(1+e)$ and $r_p = a(1-e)$ then gives us:**\n",
    "\n",
    "$$v_p = \\frac{(1+e)}{(1-e)}v_a$$\n",
    "\n",
    "**And conversely:**\n",
    "\n",
    "$$v_a = \\frac{(1-e)}{(1+e)}v_p$$\n",
    "\n",
    "**Let's turn now to the energy equation to see if we can find another way to isolate $v_a$ and/or $v_p$ &mdash; putting the gravitational energy terms on one side and the kinetic terms on the other gives us:**\n",
    "\n",
    "$$GM\\left(\\frac{1}{r_a}-\\frac{1}{r_p}\\right) = \\frac{1}{2}(v_a^2+v_p^2)$$\n",
    "\n",
    "**We're making great progress! We can clearly see how to solve for $v_a$ or $v_p$ from here. Since we want $v_p$ let's isolate that one:**\n",
    "\n",
    "$$v_p^2 = v_a^2+2GM\\left(\\frac{1}{r_p}-\\frac{1}{r_a}\\right)$$\n",
    "**Since we know from above $v_a = \\frac{(1-e)}{(1+e)}v_p$ we can plug that in and get:**\n",
    "\n",
    "$$v_p^2 = \\left(\\frac{(1-e)}{(1+e)}v_p\\right)^2+2GM\\left(\\frac{1}{r_p}-\\frac{1}{r_a}\\right)$$\n",
    "\n",
    "$$v_p^2\\left(1-\\frac{(1-e)^2}{(1+e)^2}\\right) = 2GM\\left(\\frac{1}{r_p}-\\frac{1}{r_a}\\right)$$\n",
    "\n",
    "$$v_p^2\\left(1-\\frac{(1-e)^2}{(1+e)^2}\\right) = 2GM\\left(\\frac{1}{r_p}-\\frac{1}{r_a}\\right)$$\n",
    "\n",
    "$$v_p = \\sqrt{\\frac{2GM\\left(\\frac{1}{r_p}-\\frac{1}{r_a}\\right)}{\\left(1-\\frac{(1-e)^2}{(1+e)^2}\\right)}}$$\n",
    "\n",
    "**We're almost there. Finally we need to note that (as given above) $r_a = a(1+e)$ and $r_p = a(1-e)$. Substituting this in gives us:**\n",
    "\n",
    "$$\\boxed{v_p = \\sqrt{\\frac{2GM\\left(\\frac{1}{a(1-e)}-\\frac{1}{a(1+e)}\\right)}{\\left(1-\\frac{(1-e)^2}{(1+e)^2}\\right)}}}$$\n",
    "\n",
    "**This is good enough and you can plug in numbers here, but you can do further algebra to simplify this and get it down to something nice and tidy:**\n",
    "\n",
    "$$\\boxed{v_p = \\sqrt{\\frac{GM}{a}\\frac{(1+e)}{(1-e)}}}$$\n",
    "\n",
    "***Note: as given in the question above, if you did this in the Jupyter notebook you must use $\\LaTeX$ to nicely format your answer to receive your +10 extra credit points on this assignment.***"
   ]
  },
  {
   "cell_type": "code",
   "execution_count": 6,
   "metadata": {},
   "outputs": [
    {
     "data": {
      "text/latex": [
       "$0.024578135 \\; \\mathrm{}$"
      ],
      "text/plain": [
       "<Quantity 0.02457814>"
      ]
     },
     "execution_count": 6,
     "metadata": {},
     "output_type": "execute_result"
    }
   ],
   "source": [
    "#calculating\n",
    "a = 1000*units.AU; P = 16*units.yr; e = 0.88\n",
    "M = 4*np.pi**2/G*a**3/P**2\n",
    "v_p = np.sqrt(G*M/a*(1+e)/(1-e))\n",
    "(v_p/c).si"
   ]
  },
  {
   "cell_type": "markdown",
   "metadata": {},
   "source": [
    "**As we can see from the calculation above, the S2 star attains a maximum speed of $\\approx$ 2.5% the speed of light.**\n",
    "\n",
    "**Note: if you don't do all this algebra and instead just plug in $r = r_p = a*(1-e)$ to $v = \\sqrt{\\frac{GM}{r}}$ you will get roughly 1.8% the speed of light (almost 30% error).** \n",
    "\n",
    "***If you did it this way you will only get 5 points for this problem.***\n",
    "\n",
    "***If you started with the vis viva equation***\n",
    "\n",
    "$$v^2 = GM\\left(\\frac{2}{r} - \\frac{1}{a}\\right)$$\n",
    "\n",
    "***you only get half credit (10 points) as the problem specifically said to start from conservation of angular momentum and energy and derive the answer from there.***"
   ]
  },
  {
   "cell_type": "markdown",
   "metadata": {},
   "source": [
    "### d.) Do we need relativity? [5 points]\n",
    "\n",
    "Based on your answer to part c, does relativity play a *large* role in determing the orbit of S2? Why or why not? If yes, should we trust our answers to parts a, b, and c?\n",
    "\n",
    "**Solution: No, we don't need relativity. This is very fast, but still not fast enough that it deviates (at least to a few significant figures) from what Newtonian mechanics gives us. This is good because we used Newtonian mechanics to derive everything so far, so we can still trust those answers (at least to a few significant figures).**"
   ]
  },
  {
   "cell_type": "markdown",
   "metadata": {},
   "source": [
    "### e.) Supermassive water blobs: [10 points]\n",
    "\n",
    "$r_p$ places an upper limit on the extent the mass interior to S2 *could* have. Suppose all of the mass driving the orbit was in a sphere with radius $r_p$ &mdash; what would its density be? Compare your answer to the density of a black hole of the same mass. What if all of the mass interior to S2's orbit was a giant sphere of water (density $\\sim 1000 \\textrm{ kg}/\\rm{m^3}$) &mdash; would we be able to tell the difference based on the orbit alone? \n",
    "\n",
    "Google around and comment on a few other reasons we think the center of the galaxy is host to a supermassive black hole and not a supermassive blob of water. \n",
    "\n",
    "**Solution: density is just mass divided by volume, so for all the material inside a sphere with radius $r_p$ the density would be:**\n",
    "\n",
    "$$\\rho = \\frac{M}{4/3\\pi r_p^3}$$\n",
    "\n",
    "**We can calculate this in the code cell below:**"
   ]
  },
  {
   "cell_type": "code",
   "execution_count": 7,
   "metadata": {},
   "outputs": [
    {
     "data": {
      "text/latex": [
       "$0.00032053375 \\; \\mathrm{\\frac{kg}{m^{3}}}$"
      ],
      "text/plain": [
       "<Quantity 0.00032053 kg / m3>"
      ]
     },
     "execution_count": 7,
     "metadata": {},
     "output_type": "execute_result"
    }
   ],
   "source": [
    "r_p = a*(1-e)\n",
    "ρ = M/(4/3*np.pi*r_p**3)\n",
    "ρ.si"
   ]
  },
  {
   "cell_type": "markdown",
   "metadata": {},
   "source": [
    "**This is quite small (~3e-4 kg/m^3). To get the density of the black hole we can repeat the calculation done above but use $R_s$ instead of $r_p$:**"
   ]
  },
  {
   "cell_type": "code",
   "execution_count": 8,
   "metadata": {},
   "outputs": [
    {
     "data": {
      "text/latex": [
       "$1207713 \\; \\mathrm{\\frac{kg}{m^{3}}}$"
      ],
      "text/plain": [
       "<Quantity 1207713.02708091 kg / m3>"
      ]
     },
     "execution_count": 8,
     "metadata": {},
     "output_type": "execute_result"
    }
   ],
   "source": [
    "R_s = 2*G*M/c**2\n",
    "ρBH = M/(4/3*np.pi*R_s**3)\n",
    "ρBH.si"
   ]
  },
  {
   "cell_type": "markdown",
   "metadata": {},
   "source": [
    "**This is huge (roughly 1e6 kg/m^3) in comparison (roughly 4 billion times for dense)! Because the density of water is between these two values, gravitationally the effect of a giant blob of water with the same mass would have the same effect on the orbit of our star and we'd have no way to tell. It seems highly unlikely that we end up with a giant ball of water at the center of our galaxy when we don't see giant balls of water anywhere else, but based on the star's orbit and minimum distance technically we can't tell. There are many great answers for further proof as to why it probably isn't a blob of water (radio emission from synchotron radiation, high energy emission from inside the orbit, flare events, Occam's razor, etc.) but the best one is in the next question.**"
   ]
  },
  {
   "cell_type": "markdown",
   "metadata": {},
   "source": [
    "### f.) Photographic evidence: [5 points]\n",
    "Conclusive \"proof\" that there is a black hole at the center of our galaxy was obtained more recently by the EHT, which found emission coming from a region $\\sim 2-3 R_s$ away from the central object. Given your answer to e, what makes this observation the strongest evidence yet that Sag A* is a black hole?\n",
    "\n",
    "**Solution: this is the strongest proof yet because it constrains the radius where all the mass has to be much tighter than the orbit does, and it demonstrates relativistic effects we would expect from gas emitting near a black hole event horizon.**"
   ]
  },
  {
   "cell_type": "markdown",
   "metadata": {},
   "source": [
    "## Problem 2: Twin \"paradox\" [20 points]\n",
    "\n",
    "In special relativity time dilation goes like $\\Delta t' = \\gamma \\Delta t$ (with $\\gamma = \\frac{1}{\\sqrt{1-v^2/c^2}}$). But whose time corresponds to $\\Delta t$ and whose corresponds to $\\Delta t'$? This is where the famous \"twin paradox\" arises from: the twin in the spaceship will observe the Earth to be moving at a constant speed while the twin on Earth will observe the spaceship to be the thing that is moving, thus won't they disagree about who ends up older? \n",
    "\n",
    "One often invoked \"resolution\" of the twin paradox is to say that you need to use *general* relativity to resolve this, since when the twin in the spaceship turns around they must accelerate and thus we must do all of the time dilation calculations in GR. **This is wrong**. The twin paradox can be easily resolved with special relativity alone! \n",
    "\n",
    "Read the explanation on the [Wikipedia page](https://en.wikipedia.org/wiki/Twin_paradox#Relativity_of_simultaneity), and in particular look at the diagram in the \"relativity of simultaneity\" section. This question is purely qualitative, but I'd like you to explain (in your own words) the following:\n",
    "\n",
    "### a.) What is a Minkowski diagram? [10 points]\n",
    "\n",
    "Google, use the Wikipedia page, your book, or any other resources you like, and explain in your own words what Minkowski diagrams represent. What determines the lines of simultaneity and why does light have a slope of $\\pm$1 (in the usual case where the time axis is in terms of $ct$)? \n",
    "\n",
    "**Solution: Lots of reasonable answers here, but all should lay out that, in general, a Minkowski diagram is a graphical way of representing spacetime for an observer at a certain velocity. Usually they are 2D, with the x axis corresponding to distance (usually in ly) and the y axis corresponding to \"time distance\" ($ct$, usually also in units of ly). Different observers get different scaling on their axes as their spacetime is warped by special relativistic effects, but all observers agree that light rays have a slope with an absolute value of 1 because light travels 1 light year every year. Lines of simultaneity are determined by where lines parallel to an observer's x axis impact their time axis.** \n",
    "\n",
    "### b.) Resolving the twin paradox: [10 points]\n",
    "\n",
    "How does the Minkowski diagram on the Wiki page resolve the twin paradox? Does this use general relativity? Explain, in your own words and basing your answer off of the Minkowski diagram, what an observer on the ship would see as they turned around in terms of the corresponding time on Earth. What about the twin on Earth &mdash; what do they see? \n",
    "\n",
    "**Solution: This resolves the paradox using special relativity alone (no GR needed) by showing that, on the return trip, the twin travelling in the spaceship changes reference frames from one where the velocity positive (moving away) to one where the velocity is negative (moving back towards the twin on Earth). In doing so their lines of simultaneity change, and on landing back at Earth they both agree on how long the journey took as their lines of simultaneity converge. What the graphic shows is that, prior to turning around, the twin on the spaceship thinks only a few years have passed. As they turn around and change reference frames, however, they skip over a bunch of Earth time, thus as they turn around they would see many years pass on Earth in an instant. The twin on Earth experiences all this time normally, so when they meet up again the twin on Earth is older than the twin in the spaceship as the twin in the spaceship essentially skipped a bunch of years when they turned around.**"
   ]
  },
  {
   "cell_type": "markdown",
   "metadata": {},
   "source": [
    "## Problem 3: Special relativity and the Kessel Run [30 points]\n",
    "\n",
    "The Empire has recently greatly restricted trading, making it difficult for smugglers to ferry supplies to the Rebels. Fortunately, Han Solo discovers that Imperial scanners don't work properly on ships that are moving sufficiently fast, and he is commissioned by the Resistance to complete the famous \"Kessel run\" trading route, bringing back much-needed supplies for the war effort. \n",
    "\n",
    "He sets off from the Rebel base in the Millenium Falcon at 2/3 of the speed of light (the precise speed at which the Imperial scanners fail) to complete the Kessel run. From the rest-frame of the Empire / Resistance cartographers they measure the Kessel Run trade route to be a distance (to two significant figures) of 16 parsecs (round trip, 8 parsecs each way)."
   ]
  },
  {
   "cell_type": "code",
   "execution_count": 15,
   "metadata": {},
   "outputs": [
    {
     "data": {
      "text/html": [
       "<iframe width=\"560\" height=\"315\" src=\"https://www.youtube.com/embed/fjYuw6zWk_Y?si=vaV80xRfIxJWJDbd\" title=\"YouTube video player\" frameborder=\"0\" allow=\"accelerometer; autoplay; clipboard-write; encrypted-media; gyroscope; picture-in-picture; web-share\" allowfullscreen></iframe>\n"
      ],
      "text/plain": [
       "<IPython.core.display.HTML object>"
      ]
     },
     "metadata": {},
     "output_type": "display_data"
    }
   ],
   "source": [
    "%%HTML\n",
    "<iframe width=\"560\" height=\"315\" src=\"https://www.youtube.com/embed/fjYuw6zWk_Y?si=vaV80xRfIxJWJDbd\" title=\"YouTube video player\" frameborder=\"0\" allow=\"accelerometer; autoplay; clipboard-write; encrypted-media; gyroscope; picture-in-picture; web-share\" allowfullscreen></iframe>"
   ]
  },
  {
   "cell_type": "markdown",
   "metadata": {},
   "source": [
    "### a.) How long does the entire journey take (in years), as measured by Han Solo aboard the Millenium Falcon? [10 points]\n",
    "\n",
    "### b.) World-lines in a galaxy far, far away: [5 points]\n",
    "Draw a Minkowski diagram illustrating the journey. Include a world-line for the rebels and one for the crew of the Millenium Falcon. Include at least 4 lines of simultaneity (one at beginning of trip, two at the middle, and one at the end) and label their slopes.\n",
    "\n",
    "**Solution: I'm too lazy to draw this, but it should look almost identical to the twin paradox Wikipedia graphic. The slopes of the lines of simultaneity on the outbound portion of the trip will be $v/c = 2/3$ and on the return trip to the rebel base they will be $-v/c = -2/3$. Just like in the answer to the twin paradox above, the age discrepancy happens when Han Solo turns around and his lines of simultaneity skip over a bunch of rebel time.**\n",
    "\n",
    "**Note:** If you are completing your homework in a Jupyter notebook you can draw your diagram by hand and embed a picture in your notebook following the steps [here](https://stackoverflow.com/questions/32370281/how-to-embed-image-or-picture-in-jupyter-notebook-either-from-a-local-machine-o)."
   ]
  },
  {
   "cell_type": "markdown",
   "metadata": {},
   "source": [
    "### c.) Twin paradox redux: [5 points]\n",
    "When he returns, what is the age difference (in years) between the rebels who stayed behind on the secret base vs. Han Solo? Who aged less, and why? \n",
    "\n",
    "**Solution: We can calculate the age difference using the time dilation formula:**\n",
    "\n",
    "$$\\Delta t' = \\gamma \\Delta t$$\n",
    "\n",
    "**First we need to calculate $\\gamma$:**\n",
    "\n",
    "$$\\gamma = \\frac{1}{\\sqrt{1-v^2/c^2}} = \\frac{1}{\\sqrt{1-4/9}} \\approx 1.34$$\n",
    "\n",
    "**To calculate the time the rebels on the base observe, we simply take their measured distance (16 pc) and divide that by Han Solo's velocity (2/3 the speed of light) and get:** "
   ]
  },
  {
   "cell_type": "code",
   "execution_count": 10,
   "metadata": {},
   "outputs": [
    {
     "data": {
      "text/latex": [
       "$78.277531 \\; \\mathrm{yr}$"
      ],
      "text/plain": [
       "<Quantity 78.27753065 yr>"
      ]
     },
     "execution_count": 10,
     "metadata": {},
     "output_type": "execute_result"
    }
   ],
   "source": [
    "v = 2/3*c\n",
    "γ = 1/np.sqrt(1-v**2/c**2)\n",
    "d_rebel = 16*units.pc\n",
    "t_rebel = d_rebel/v\n",
    "t_rebel.to(units.yr)"
   ]
  },
  {
   "cell_type": "markdown",
   "metadata": {},
   "source": [
    "**Thus, the rebels will have aged 78 years while Han Solo completed the Kessel run. Han Solo will age less (for reasons given above and in twin paradox problem) so we can calculate the amount of time he experiences as simply:**\n",
    "\n",
    "$$\\Delta t_{\\rm{HS}} = \\frac{\\Delta t_\\rm{rebels}}{\\gamma} = \\frac{78 \\rm{yr}}{1.34} \\approx \\boxed{58 \\rm{yr}}$$"
   ]
  },
  {
   "cell_type": "code",
   "execution_count": 12,
   "metadata": {},
   "outputs": [
    {
     "data": {
      "text/latex": [
       "$58.344627 \\; \\mathrm{yr}$"
      ],
      "text/plain": [
       "<Quantity 58.34462655 yr>"
      ]
     },
     "execution_count": 12,
     "metadata": {},
     "output_type": "execute_result"
    }
   ],
   "source": [
    "t_HS = t_rebel/γ\n",
    "t_HS.to(units.yr)"
   ]
  },
  {
   "cell_type": "markdown",
   "metadata": {},
   "source": [
    "**Thus the age difference is roughly 15 years.**"
   ]
  },
  {
   "cell_type": "markdown",
   "metadata": {},
   "source": [
    "### d.) Kessel run in 12 pc? [10 points]\n",
    "What distance does Han Solo measure for the length of the Kessel Run? Answer to two significant figures and compare with Star Wars lore, which quotes a distance of 12 pc. \n",
    "\n",
    "**Solution: now we just need to apply the length contraction formula:**\n",
    "\n",
    "$$\\Delta x_\\rm{HS} = \\frac{\\Delta x_\\rm{rebels}}{\\gamma} = \\frac{16 \\rm{pc}}{1.34} \\approx \\boxed{12 \\rm{pc}}$$"
   ]
  },
  {
   "cell_type": "code",
   "execution_count": 14,
   "metadata": {},
   "outputs": [
    {
     "data": {
      "text/latex": [
       "$11.925696 \\; \\mathrm{pc}$"
      ],
      "text/plain": [
       "<Quantity 11.92569588 pc>"
      ]
     },
     "execution_count": 14,
     "metadata": {},
     "output_type": "execute_result"
    }
   ],
   "source": [
    "d_HS = d_rebel/γ\n",
    "d_HS"
   ]
  },
  {
   "cell_type": "markdown",
   "metadata": {},
   "source": [
    "**Thus Han Solo will be able to rightly say that the Millenium Falcon did the Kessel run in 12 parsecs, in agreement with Star Wars lore.** :) "
   ]
  }
 ],
 "metadata": {
  "kernelspec": {
   "display_name": "Python 3 (ipykernel)",
   "language": "python",
   "name": "python3"
  },
  "language_info": {
   "codemirror_mode": {
    "name": "ipython",
    "version": 3
   },
   "file_extension": ".py",
   "mimetype": "text/x-python",
   "name": "python",
   "nbconvert_exporter": "python",
   "pygments_lexer": "ipython3",
   "version": "3.11.5"
  }
 },
 "nbformat": 4,
 "nbformat_minor": 2
}
