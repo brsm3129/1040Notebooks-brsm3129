{
 "cells": [
  {
   "cell_type": "markdown",
   "metadata": {},
   "source": [
    "# ASTR 1040 Problem Set 7\n",
    "\n",
    "The first cell (below) contains lots of helpful constants you may need to use throughout the semester. Make sure to run it each time before you start working! \n",
    "\n",
    "For reference, all of the `astropy` constants as well as examples can be found [here](https://docs.astropy.org/en/stable/constants/index.html). Likewise all of the units and their names / how to access them can be found [here](https://docs.astropy.org/en/stable/units/index.html). \n",
    "\n",
    "To create a variable with units you need to multiply by the corresponding unit class:\n",
    "\n",
    "```python\n",
    "d = 1 * units.au\n",
    "```\n",
    "\n",
    "You can then convert unitful quantities to other units by calling the `to` method and passing the desired end unit class: \n",
    "\n",
    "```python\n",
    "d_m = d.to(units.m)\n",
    "```\n",
    "\n",
    "If you have a ratio of quanities where all the units should cancel out, you can obtain the dimensionles number using the `dimesionless_unscaled` method. For example writing:\n",
    "```python\n",
    "d_m/d\n",
    "``` \n",
    "yields $1.4959787\\times 10^{11} \\rm{\\frac{m}{AU}}$, but doing:\n",
    "```python\n",
    "(d_m/d).to(units.dimensionless_unscaled)\n",
    "```\n",
    "returns `1.0` as expected."
   ]
  },
  {
   "cell_type": "code",
   "execution_count": 1,
   "metadata": {},
   "outputs": [],
   "source": [
    "#SETUP CELL (modify at your own peril)\n",
    "from astropy import units #access units by doing units.<unit> (i.e. units.au)\n",
    "from astropy import constants\n",
    "import numpy as np #common math functions (i.e. np.sin(x)) and better arrays (i.e. np.array([1,2,3])\n",
    "import matplotlib.pyplot as plt #plotting functions (i.e. plt.plot(x,y))\n",
    "G = constants.G # gravitational constant\n",
    "M_sun = constants.M_sun # mass of the sun\n",
    "R_sun = constants.R_sun # radius of the sun\n",
    "L_sun = constants.L_sun # luminosity of the sun\n",
    "M_earth = constants.M_earth # mass of the earth\n",
    "R_earth = constants.R_earth # radius of the earth\n",
    "M_jup = constants.M_jup # mass of jupiter\n",
    "R_jup = constants.R_jup # radius of jupiter\n",
    "sigma_sb = constants.sigma_sb # Stefan-Boltzmann constant\n",
    "b_wien = constants.b_wien # Wien's displacement constant\n",
    "c = constants.c # speed of light\n",
    "h = constants.h # Planck constant\n",
    "k_B = constants.k_B # Boltzmann constant\n",
    "m_e = constants.m_e # mass of electron\n",
    "m_p = constants.m_p # mass of proton \n",
    "m_n = constants.m_n # mass of neutron (basically just the mass of a proton but whatever)\n",
    "g0 = constants.g0 # standard gravity, 9.8 m/s^2\n",
    "e = constants.e # absolute value of electron/proton charge"
   ]
  },
  {
   "cell_type": "markdown",
   "metadata": {},
   "source": [
    "## 1: Milky Way Dynamics [20 points]\n",
    "\n",
    "In last week's problem set you (should have) found that the mass of the supermassive black hole at the heart of our galaxy is roughly $4\\times 10^6 M\\odot$, which you found by looking at the orbit of the famous \"S2\" star. We will now repeat this exercise (in a simpler way) for the entire Milky Way! \n",
    "\n",
    "The Large Magellanic Cloud (LMC) is a small dwarf galaxy that orbits the Milky Way. Currently it is at a distance of roughly 160,000 lightyears from the galactic center and moving at a velocity of roughly 300 km/s. \n",
    "\n",
    "### a) [10 points] Assuming the orbit is roughly circular, what is the mass enclosed within the LMC's orbit? \n"
   ]
  },
  {
   "cell_type": "code",
   "execution_count": 2,
   "metadata": {},
   "outputs": [
    {
     "name": "stdout",
     "output_type": "stream",
     "text": [
      "40526142278138.586 solMass\n"
     ]
    }
   ],
   "source": [
    "v = 300 * units.km / units.s\n",
    "d = 160000 * units.lyr\n",
    "\n",
    "p = d / v\n",
    "\n",
    "enclosed_mass = ((4 * (np.pi ** 2)) / G) * ((d ** 3) / (p ** 2))\n",
    "\n",
    "print(enclosed_mass.to(units.M_sun))"
   ]
  },
  {
   "cell_type": "markdown",
   "metadata": {},
   "source": [
    "### b) [10 points] How does your estimate compare to the estimated mass of the black hole (Sag A*) you found last week? Do you think Sag A* has much of an impact on the orbit of the Sun in the Milky Way? \n"
   ]
  },
  {
   "cell_type": "code",
   "execution_count": 3,
   "metadata": {},
   "outputs": [
    {
     "name": "stdout",
     "output_type": "stream",
     "text": [
      "Sag A is only 9.870172128763806e-08 percent of the enclosed by the LMC\n"
     ]
    }
   ],
   "source": [
    "SagA = 4e6 * units.M_sun\n",
    "\n",
    "print(\"Sag A is only\",(SagA / enclosed_mass).si, \"percent of the enclosed by the LMC\")"
   ]
  },
  {
   "cell_type": "markdown",
   "metadata": {},
   "source": [
    "SagA* probably does not have much of an impact on the orbit of the sun, although it does help center the center of mass of the Milky Way."
   ]
  },
  {
   "cell_type": "markdown",
   "metadata": {},
   "source": [
    "## 2: Galaxy Rotation Curves [60 points]\n",
    "\n",
    "In this problem we are going to build up a rotation curve for an idealized galaxy, considering both visible matter and dark matter. To do this we'll make several assumptions: \n",
    "\n",
    "1. We are going to assume our idealized galaxy is a perfect sphere.\n",
    "2. We are going to assume most of the idealized galaxy's mass is located within its core, with a constant mass density of $\\rho_c = 0.01 \\frac{M_\\odot}{\\rm{ly}^3}$ (about one star every 4.6 cubic light years) in the core (we will neglect the supermassive black hole at the very center and assume its mass gets averaged into this density) and we will assume this core density extends to a radius $r_c = 10^4 \\rm{ly}$.\n",
    "3. We are going to assume that all of the objects in our idealized galaxy are on circular orbits. \n",
    "\n",
    "To start we will consider visible matter only:\n",
    "\n",
    "### a) [10 points] Calculate the rotation speed ($v(r)$) of the galaxy as a function of distance inside the core ($r<r_c$)\n",
    "\n",
    "\n"
   ]
  },
  {
   "cell_type": "markdown",
   "metadata": {},
   "source": [
    "$$(M_1 + M_2) = \\rho_c \\cdot r^3$$\n",
    "\n",
    "$$p = \\frac{r}{v} $$\n",
    "\n",
    "$$(M_1 + M_2) = \\frac{4\\pi^2}{G} \\cdot \\frac{r^3}{p^2}$$\n",
    "\n",
    "\n",
    "$$\\rho_c r^3 \\cdot \\frac{4\\pi}{3} = \\frac{4\\pi^2}{G} \\cdot \\frac{r^3}{p^2}$$\n",
    "\n",
    "$$ \\frac{\\rho_c G}{3\\pi} = \\frac{v^2}{r^2}$$\n",
    "\n",
    "$$v^2 = \\frac{\\rho_c G r^2}{3\\pi}$$"
   ]
  },
  {
   "cell_type": "code",
   "execution_count": 4,
   "metadata": {},
   "outputs": [],
   "source": [
    "def rotspeed_inside_core(r):\n",
    "    r_c = 1e4 * units.lyr\n",
    "    p_c = .01 * units.M_sun / (units.lyr ** 3)\n",
    "    if(r >= r_c):\n",
    "        return rotspeed_outside_core(r)\n",
    "    \n",
    "    M = p_c * (r ** 3) * (4/3) * np.pi\n",
    "    \n",
    "    return np.sqrt((G * M) / (r))\n",
    "\n"
   ]
  },
  {
   "cell_type": "markdown",
   "metadata": {},
   "source": [
    "### b) [10 points] Calculate the rotation speed ($v(r)$) of the galaxy as a function of radial distance outside the core ($r>r_c$)\n",
    "Note that as stated in assumption 2, we are assuming that there is no mass outside of the core.\n"
   ]
  },
  {
   "cell_type": "markdown",
   "metadata": {},
   "source": [
    "\n",
    "$$(M_1 + M_2) = \\rho_c \\cdot r_c^3$$\n",
    "\n",
    "$$p = \\frac{r}{v} $$\n",
    "\n",
    "$$(M_1 + M_2) = \\frac{4\\pi^2}{G} \\cdot \\frac{r^3}{p^2}$$\n",
    "\n",
    "$$\\rho_c \\cdot r_c^3 \\cdot \\frac{4\\pi}{3} = \\frac{4\\pi^2}{G} \\cdot \\frac{r^3}{p^2}$$\n",
    "\n",
    "$$ \\frac{\\rho_c \\cdot G}{3\\pi r^3} = \\frac{v^2}{r^2}$$\n",
    "\n",
    "$$v^2 = \\frac{\\rho_c G}{3\\pi r}$$"
   ]
  },
  {
   "cell_type": "code",
   "execution_count": 5,
   "metadata": {},
   "outputs": [
    {
     "data": {
      "text/latex": [
       "$76654.523 \\; \\mathrm{\\frac{m}{s}}$"
      ],
      "text/plain": [
       "<Quantity 76654.52320514 m / s>"
      ]
     },
     "execution_count": 5,
     "metadata": {},
     "output_type": "execute_result"
    }
   ],
   "source": [
    "def rotspeed_outside_core(r):\n",
    "    r_c = 1e4 * units.lyr\n",
    "    p_c = .01 * units.M_sun / (units.lyr ** 3)\n",
    "    if(r < r_c):\n",
    "        return rotspeed_inside_core(r)\n",
    "    M = p_c * (r_c ** 3) * (4/3) * np.pi\n",
    "    return np.sqrt(G * M / r)\n",
    "\n",
    "rotspeed_outside_core(1e5 * units.lyr).si"
   ]
  },
  {
   "cell_type": "markdown",
   "metadata": {},
   "source": [
    "### c) [10 points] Plot $v(r)$ (in units of km/s) versus $r$ (in units of 1000's of ly) for $0.1<r<5\\times10^4 \\rm{ly}$\n",
    "Note: if you're doing this in a Jupyter notebook and want to get your extra credit points you'll need to make the plot in your Jupyter notebook, which you should use the [matplotlib](https://matplotlib.org/stable/tutorials/pyplot.html) library to do. This will require slightly more advanced coding than you have done thus far in the semester, so come see Kirk if you need help. \n"
   ]
  },
  {
   "cell_type": "code",
   "execution_count": 6,
   "metadata": {},
   "outputs": [
    {
     "name": "stdout",
     "output_type": "stream",
     "text": [
      "x axis in seconds, y axis in velocity(m/s)\n"
     ]
    },
    {
     "data": {
      "image/png": "[encoded data removed]",
      "text/plain": [
       "<Figure size 200x200 with 1 Axes>"
      ]
     },
     "metadata": {},
     "output_type": "display_data"
    }
   ],
   "source": [
    "def rotspeed(r):\n",
    "    r_c = 1e4 * units.lyr\n",
    "    if(r < r_c):\n",
    "        return rotspeed_inside_core(r).si.value\n",
    "    else:\n",
    "        return rotspeed_outside_core(r).si.value\n",
    "    \n",
    "from astropy.visualization import quantity_support\n",
    "\n",
    "quantity_support()  \n",
    "plt.style.use('_mpl-gallery')\n",
    "  \n",
    "# make data\n",
    "x = np.linspace(0.1 , 5e4, 100) * units.lyr\n",
    "y = map(rotspeed, x)\n",
    "\n",
    "# plot\n",
    "fig, ax = plt.subplots()\n",
    "\n",
    "ax.plot([d.si.value for d in x], list(map(rotspeed, x)))\n",
    "\n",
    "print(\"x axis in seconds, y axis in velocity(m/s)\")\n",
    "plt.show()\n"
   ]
  },
  {
   "cell_type": "markdown",
   "metadata": {},
   "source": [
    "### d) [10 points] Considering visible matter only, where is the fastest rotation speed and what is the corresponding orbital period at this distance?\n",
    "Provide your answers in km/s and years. \n",
    "\n",
    "The fastest rotation speed is at the closest point with all of the mass enclosed. This point is at 1000 light years away from the center of the galaxy"
   ]
  },
  {
   "cell_type": "code",
   "execution_count": 7,
   "metadata": {},
   "outputs": [
    {
     "name": "stdout",
     "output_type": "stream",
     "text": [
      "Orbiting period: 77707472.72018135 yr\n"
     ]
    }
   ],
   "source": [
    "rad = 1e4 * units.lyr;\n",
    "speed = rotspeed_inside_core(rad)\n",
    "C = 2* np.pi * rad\n",
    "print(\"Orbiting period:\", (C / speed).to(units.year))\n"
   ]
  },
  {
   "cell_type": "markdown",
   "metadata": {},
   "source": [
    "### e) [10 points] Adding dark matter:\n",
    "\n",
    "Suppose we added a fourth assumption to our list &mdash; that there was a substantial amount of dark matter in these galaxies. Observationally it is observed that galaxy velocity curves \"flatten out\" past a certain radius. Let's assume this radius in our case is the core radius $r_c$ &mdash; mathematically, if we want to make $v(r)$ constant we will need to make $M\\propto r$. \n",
    "\n",
    "Show that the total mass as a function of radius must then be:\n",
    "\n",
    "$$M(r>r_c) = \\frac{4}{3}\\pi \\rho_c r_c^2r \\textrm{ for } r>r_c$$ \n",
    "\n",
    "*Hint: What should the difference in velocities between some radius $r$ and the radius of the core $r_c$ be?*\n"
   ]
  },
  {
   "cell_type": "code",
   "execution_count": 8,
   "metadata": {},
   "outputs": [],
   "source": [
    "def rotspeed(r):\n",
    "    r_c = 1e4 * units.lyr\n",
    "    if(r < r_c):\n",
    "        return rotspeed_inside_core(r).si.value\n",
    "    else:\n",
    "        return rotspeed_outside_core(r).si.value"
   ]
  },
  {
   "cell_type": "markdown",
   "metadata": {},
   "source": [
    "\n",
    "### f) [10 points] Final results:\n",
    "Remake your plot from part c with your new addition of dark matter to the galaxy's density profile. What value does v(r) flatten out at? Compare the amount of dark matter vs. normal matter required to make this idealized velocity curve out to $10^4 \\rm{ly}$ &mdash; what fraction of the total is dark matter and what fraction is normal matter? How does this compare to what you would expect to find in the \"real\" universe? \n"
   ]
  },
  {
   "cell_type": "code",
   "execution_count": 9,
   "metadata": {},
   "outputs": [
    {
     "name": "stdout",
     "output_type": "stream",
     "text": [
      "x axis in seconds, y axis in velocity(m/s)\n"
     ]
    },
    {
     "data": {
      "image/png": "[encoded data removed]",
      "text/plain": [
       "<Figure size 200x200 with 1 Axes>"
      ]
     },
     "metadata": {},
     "output_type": "display_data"
    },
    {
     "name": "stdout",
     "output_type": "stream",
     "text": [
      "v(r) flattens out at 242402.88628247357 m/s\n"
     ]
    }
   ],
   "source": [
    "def rotspeed_inside_core_darkmatter(r):\n",
    "    r_c = 1e4 * units.lyr\n",
    "    p_c = .01 * units.M_sun / (units.lyr ** 3)\n",
    "    if(r >= r_c):\n",
    "        return rotspeed_outside_core(r)\n",
    "    \n",
    "    M = p_c * (r ** 3) * (4/3) * np.pi\n",
    "    \n",
    "    return np.sqrt((G * M) / (r))\n",
    "\n",
    "def rotspeed_outside_core_darkmatter(r):\n",
    "    r_c = 1e4 * units.lyr\n",
    "    p_c = .01 * units.M_sun / (units.lyr ** 3)\n",
    "    if(r < r_c):\n",
    "        return rotspeed_inside_core(r)\n",
    "    M = p_c * (r_c ** 2) * (4/3) * np.pi * r\n",
    "    return np.sqrt((G * M) / r)\n",
    "\n",
    "def rotspeed_darkmatter(r):\n",
    "    r_c = 1e4 * units.lyr\n",
    "    if(r < r_c):\n",
    "        return rotspeed_inside_core_darkmatter(r).si.value\n",
    "    else:\n",
    "        return rotspeed_outside_core_darkmatter(r).si.value\n",
    "    \n",
    "quantity_support()  \n",
    "plt.style.use('_mpl-gallery')\n",
    "\n",
    "# make data\n",
    "x = np.linspace(0.1 , 5e4, 100) * units.lyr\n",
    "y = map(rotspeed_darkmatter, x)\n",
    "\n",
    "# plot\n",
    "fig, ax = plt.subplots()\n",
    "\n",
    "ax.plot([d.si.value for d in x], list(map(rotspeed_darkmatter, x)))\n",
    "\n",
    "print(\"x axis in seconds, y axis in velocity(m/s)\")\n",
    "plt.show()\n",
    "print(\"v(r) flattens out at\", rotspeed_darkmatter(1e4 * units.lyr), \"m/s\")"
   ]
  },
  {
   "cell_type": "markdown",
   "metadata": {},
   "source": [
    "## 3: Time dilation snake oil [20 points]\n",
    "\n",
    "Recently you hurt yourself skiing, and the doctor's told you that you'll probably be out the rest of the season to recover. You're a poor college student though, and you don't want to waste your very expensive ski pass. You heard from a friend that general relativity says that time passes slower for people deeper in gravitational fields, and since ski mountains are at high elevations you plan to just chill out in the lodge for a bit and figure you'll recover faster than if you stayed in the hospital. \n",
    "\n",
    "### a) [5 points] Qualitatively, is there any truth behind your friend's claim that you should heal faster on top of the mountain? Why or why not?\n",
    "\n"
   ]
  },
  {
   "cell_type": "markdown",
   "metadata": {},
   "source": [
    "There is some truth behind this. At the relatively *slightly* higher elevation of the lodge, time would pass slower than at the top of the mountain according to General Relativity."
   ]
  },
  {
   "cell_type": "markdown",
   "metadata": {},
   "source": [
    "### b) [10 points] Say the doctor said it would take 3 months for your injury to heal at the hospital. How much faster/slower will you heal on the mountain?\n",
    "\n",
    "Let's say the hospital that gave you this healing time estimate is in Boulder (roughly 1.5 km above sea level) and you plan to hang out and heal at the A-basin lodge (almost 4 km above sea level!).\n",
    "\n",
    "Express your answer as a time difference (i.e. $t_B - t_A$) in units of microseconds."
   ]
  },
  {
   "cell_type": "markdown",
   "metadata": {},
   "source": [
    "$$T_{dilated} = \\sqrt{1-\\frac{2Gm}{Rc^2}} \\cdot T_{withoutgravity}$$"
   ]
  },
  {
   "cell_type": "code",
   "execution_count": 10,
   "metadata": {},
   "outputs": [
    {
     "name": "stdout",
     "output_type": "stream",
     "text": [
      "The difference in time to heal between boulder and abasin is -2.1477052136731345 us\n"
     ]
    }
   ],
   "source": [
    "e_boulder = 1.5 * units.km\n",
    "e_abay = 4 * units.km\n",
    "t_boulder = units.year / 4\n",
    "\n",
    "t_withoutgravity = t_boulder / np.sqrt(1-(2 * G * M_earth) / (c ** 2 * (e_boulder + R_earth)))\n",
    "t_abay = np.sqrt(1-((2 * G * M_earth) / (c ** 2 * (e_abay + R_earth)))) * t_withoutgravity\n",
    "print(\"The difference in time to heal between boulder and abasin is\", (t_boulder - t_abay).to(units.us))"
   ]
  },
  {
   "cell_type": "code",
   "execution_count": 11,
   "metadata": {},
   "outputs": [
    {
     "data": {
      "text/latex": [
       "$7.2633483 \\; \\mathrm{\\mu s}$"
      ],
      "text/plain": [
       "<Quantity 7.26334832 us>"
      ]
     },
     "execution_count": 11,
     "metadata": {},
     "output_type": "execute_result"
    }
   ],
   "source": [
    "v = np.sqrt((G * M_earth)/ (R_earth + (20000 * units.km)))\n",
    "\n",
    "gamma = 1 / np.sqrt(1 - (v ** 2)/c**2 )\n",
    "((gamma - 1) * units.s * 60 * 60 * 24).to(units.us)\n",
    "\n"
   ]
  },
  {
   "cell_type": "markdown",
   "metadata": {},
   "source": [
    "### c) [5 points] What would you need to change in this problem to make this a more meaningful difference? "
   ]
  },
  {
   "cell_type": "code",
   "execution_count": 12,
   "metadata": {},
   "outputs": [
    {
     "name": "stdout",
     "output_type": "stream",
     "text": [
      "5484.6240234375 us\n"
     ]
    }
   ],
   "source": [
    "print(t_withoutgravity.to(units.us) - t_boulder)"
   ]
  },
  {
   "cell_type": "markdown",
   "metadata": {},
   "source": [
    "To make a more meaningful difference, the difference in the gravitational fields would have to be much greater. This could be achieved by being near a more massive object or having the elevation difference be greater. The second option is a little easier to achieve(could just go to space) but it would hard for this to have a meaningful difference in recovery rate."
   ]
  },
  {
   "cell_type": "code",
   "execution_count": null,
   "metadata": {},
   "outputs": [],
   "source": []
  }
 ],
 "metadata": {
  "kernelspec": {
   "display_name": "Python 3 (ipykernel)",
   "language": "python",
   "name": "python3"
  },
  "language_info": {
   "codemirror_mode": {
    "name": "ipython",
    "version": 3
   },
   "file_extension": ".py",
   "mimetype": "text/x-python",
   "name": "python",
   "nbconvert_exporter": "python",
   "pygments_lexer": "ipython3",
   "version": "3.10.9"
  }
 },
 "nbformat": 4,
 "nbformat_minor": 2
}
